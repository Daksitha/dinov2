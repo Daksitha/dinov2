{
 "cells": [
  {
   "cell_type": "markdown",
   "id": "5536f316",
   "metadata": {},
   "source": [
    "\n",
    "# Feature Extraction with DINO ViT-S/14\n",
    "\n",
    "This notebook demonstrates how to perform feature extraction using the DINO ViT-S/14 model. We'll process an image, extract its features, and visualize these features using PCA.\n"
   ]
  },
  {
   "cell_type": "code",
   "execution_count": 1,
   "id": "76de529e",
   "metadata": {},
   "outputs": [],
   "source": [
    "\n",
    "import torch\n",
    "from PIL import Image\n",
    "import torchvision.transforms as T\n",
    "import hubconf\n"
   ]
  },
  {
   "cell_type": "markdown",
   "id": "65536b4a",
   "metadata": {},
   "source": [
    "\n",
    "## Load the DINO ViT-S/14 Model\n",
    "\n",
    "First, we load the DINO ViT-S/14 model using a pre-defined hub configuration.\n"
   ]
  },
  {
   "cell_type": "code",
   "execution_count": 2,
   "id": "1102aeb1",
   "metadata": {},
   "outputs": [
    {
     "name": "stderr",
     "output_type": "stream",
     "text": [
      "A matching Triton is not available, some optimizations will not be enabled\n",
      "Traceback (most recent call last):\n",
      "  File \"C:\\Users\\withanda\\AppData\\Local\\miniconda3\\envs\\dinov2\\lib\\site-packages\\xformers\\__init__.py\", line 55, in _is_triton_available\n",
      "    from xformers.triton.softmax import softmax as triton_softmax  # noqa\n",
      "  File \"C:\\Users\\withanda\\AppData\\Local\\miniconda3\\envs\\dinov2\\lib\\site-packages\\xformers\\triton\\softmax.py\", line 11, in <module>\n",
      "    import triton\n",
      "ModuleNotFoundError: No module named 'triton'\n",
      "D:\\GitHub\\dinov2\\dinov2\\layers\\swiglu_ffn.py:43: UserWarning: xFormers is available (SwiGLU)\n",
      "  warnings.warn(\"xFormers is available (SwiGLU)\")\n",
      "D:\\GitHub\\dinov2\\dinov2\\layers\\attention.py:27: UserWarning: xFormers is available (Attention)\n",
      "  warnings.warn(\"xFormers is available (Attention)\")\n",
      "D:\\GitHub\\dinov2\\dinov2\\layers\\block.py:33: UserWarning: xFormers is available (Block)\n",
      "  warnings.warn(\"xFormers is available (Block)\")\n"
     ]
    }
   ],
   "source": [
    "\n",
    "dinov2_vits14 = hubconf.dinov2_vits14()\n"
   ]
  },
  {
   "cell_type": "markdown",
   "id": "b3dd2d0f",
   "metadata": {},
   "source": [
    "\n",
    "## Image Preprocessing\n",
    "\n",
    "We load an image, perform necessary transformations, and prepare it for feature extraction.\n"
   ]
  },
  {
   "cell_type": "code",
   "execution_count": 5,
   "id": "e6adeba6",
   "metadata": {},
   "outputs": [],
   "source": [
    "\n",
    "img = Image.open('D:\\GitHub\\dinov2\\scripts\\data\\meta_dog.png')\n",
    "\n",
    "transform = T.Compose([\n",
    "    T.Resize(224),\n",
    "    T.CenterCrop(224),\n",
    "    T.ToTensor(),\n",
    "    T.Normalize(mean=[0.5], std=[0.5]),\n",
    "])\n",
    "\n",
    "img = transform(img)[:3].unsqueeze(0)\n"
   ]
  },
  {
   "cell_type": "markdown",
   "id": "3e6c9e02",
   "metadata": {},
   "source": [
    "\n",
    "## Feature Extraction\n",
    "\n",
    "Extract features from the image using the DINO ViT-S/14 model.\n"
   ]
  },
  {
   "cell_type": "code",
   "execution_count": 6,
   "id": "1076b2b0",
   "metadata": {},
   "outputs": [
    {
     "ename": "TypeError",
     "evalue": "forward_features() got an unexpected keyword argument 'return_patches'",
     "output_type": "error",
     "traceback": [
      "\u001B[1;31m---------------------------------------------------------------------------\u001B[0m",
      "\u001B[1;31mTypeError\u001B[0m                                 Traceback (most recent call last)",
      "Cell \u001B[1;32mIn[6], line 2\u001B[0m\n\u001B[0;32m      1\u001B[0m \u001B[38;5;28;01mwith\u001B[39;00m torch\u001B[38;5;241m.\u001B[39mno_grad():\n\u001B[1;32m----> 2\u001B[0m     features \u001B[38;5;241m=\u001B[39m \u001B[43mdinov2_vits14\u001B[49m\u001B[43m(\u001B[49m\u001B[43mimg\u001B[49m\u001B[43m,\u001B[49m\u001B[43m \u001B[49m\u001B[43mreturn_patches\u001B[49m\u001B[38;5;241;43m=\u001B[39;49m\u001B[38;5;28;43;01mTrue\u001B[39;49;00m\u001B[43m)\u001B[49m[\u001B[38;5;241m0\u001B[39m]\n\u001B[0;32m      4\u001B[0m \u001B[38;5;28mprint\u001B[39m(features\u001B[38;5;241m.\u001B[39mshape)\n",
      "File \u001B[1;32mC:\\Users\\withanda\\AppData\\Local\\miniconda3\\envs\\dinov2\\lib\\site-packages\\torch\\nn\\modules\\module.py:1511\u001B[0m, in \u001B[0;36mModule._wrapped_call_impl\u001B[1;34m(self, *args, **kwargs)\u001B[0m\n\u001B[0;32m   1509\u001B[0m     \u001B[38;5;28;01mreturn\u001B[39;00m \u001B[38;5;28mself\u001B[39m\u001B[38;5;241m.\u001B[39m_compiled_call_impl(\u001B[38;5;241m*\u001B[39margs, \u001B[38;5;241m*\u001B[39m\u001B[38;5;241m*\u001B[39mkwargs)  \u001B[38;5;66;03m# type: ignore[misc]\u001B[39;00m\n\u001B[0;32m   1510\u001B[0m \u001B[38;5;28;01melse\u001B[39;00m:\n\u001B[1;32m-> 1511\u001B[0m     \u001B[38;5;28;01mreturn\u001B[39;00m \u001B[38;5;28mself\u001B[39m\u001B[38;5;241m.\u001B[39m_call_impl(\u001B[38;5;241m*\u001B[39margs, \u001B[38;5;241m*\u001B[39m\u001B[38;5;241m*\u001B[39mkwargs)\n",
      "File \u001B[1;32mC:\\Users\\withanda\\AppData\\Local\\miniconda3\\envs\\dinov2\\lib\\site-packages\\torch\\nn\\modules\\module.py:1520\u001B[0m, in \u001B[0;36mModule._call_impl\u001B[1;34m(self, *args, **kwargs)\u001B[0m\n\u001B[0;32m   1515\u001B[0m \u001B[38;5;66;03m# If we don't have any hooks, we want to skip the rest of the logic in\u001B[39;00m\n\u001B[0;32m   1516\u001B[0m \u001B[38;5;66;03m# this function, and just call forward.\u001B[39;00m\n\u001B[0;32m   1517\u001B[0m \u001B[38;5;28;01mif\u001B[39;00m \u001B[38;5;129;01mnot\u001B[39;00m (\u001B[38;5;28mself\u001B[39m\u001B[38;5;241m.\u001B[39m_backward_hooks \u001B[38;5;129;01mor\u001B[39;00m \u001B[38;5;28mself\u001B[39m\u001B[38;5;241m.\u001B[39m_backward_pre_hooks \u001B[38;5;129;01mor\u001B[39;00m \u001B[38;5;28mself\u001B[39m\u001B[38;5;241m.\u001B[39m_forward_hooks \u001B[38;5;129;01mor\u001B[39;00m \u001B[38;5;28mself\u001B[39m\u001B[38;5;241m.\u001B[39m_forward_pre_hooks\n\u001B[0;32m   1518\u001B[0m         \u001B[38;5;129;01mor\u001B[39;00m _global_backward_pre_hooks \u001B[38;5;129;01mor\u001B[39;00m _global_backward_hooks\n\u001B[0;32m   1519\u001B[0m         \u001B[38;5;129;01mor\u001B[39;00m _global_forward_hooks \u001B[38;5;129;01mor\u001B[39;00m _global_forward_pre_hooks):\n\u001B[1;32m-> 1520\u001B[0m     \u001B[38;5;28;01mreturn\u001B[39;00m forward_call(\u001B[38;5;241m*\u001B[39margs, \u001B[38;5;241m*\u001B[39m\u001B[38;5;241m*\u001B[39mkwargs)\n\u001B[0;32m   1522\u001B[0m \u001B[38;5;28;01mtry\u001B[39;00m:\n\u001B[0;32m   1523\u001B[0m     result \u001B[38;5;241m=\u001B[39m \u001B[38;5;28;01mNone\u001B[39;00m\n",
      "File \u001B[1;32mD:\\GitHub\\dinov2\\dinov2\\models\\vision_transformer.py:325\u001B[0m, in \u001B[0;36mDinoVisionTransformer.forward\u001B[1;34m(self, is_training, *args, **kwargs)\u001B[0m\n\u001B[0;32m    324\u001B[0m \u001B[38;5;28;01mdef\u001B[39;00m \u001B[38;5;21mforward\u001B[39m(\u001B[38;5;28mself\u001B[39m, \u001B[38;5;241m*\u001B[39margs, is_training\u001B[38;5;241m=\u001B[39m\u001B[38;5;28;01mFalse\u001B[39;00m, \u001B[38;5;241m*\u001B[39m\u001B[38;5;241m*\u001B[39mkwargs):\n\u001B[1;32m--> 325\u001B[0m     ret \u001B[38;5;241m=\u001B[39m \u001B[38;5;28mself\u001B[39m\u001B[38;5;241m.\u001B[39mforward_features(\u001B[38;5;241m*\u001B[39margs, \u001B[38;5;241m*\u001B[39m\u001B[38;5;241m*\u001B[39mkwargs)\n\u001B[0;32m    326\u001B[0m     \u001B[38;5;28;01mif\u001B[39;00m is_training:\n\u001B[0;32m    327\u001B[0m         \u001B[38;5;28;01mreturn\u001B[39;00m ret\n",
      "\u001B[1;31mTypeError\u001B[0m: forward_features() got an unexpected keyword argument 'return_patches'"
     ]
    }
   ],
   "source": [
    "\n",
    "with torch.no_grad():\n",
    "    features = dinov2_vits14(img, return_patches=True)[0]\n",
    "\n",
    "print(features.shape)\n"
   ]
  },
  {
   "cell_type": "markdown",
   "id": "3c4bc245",
   "metadata": {},
   "source": [
    "\n",
    "## Feature Visualization\n",
    "\n",
    "We apply PCA to the extracted features and visualize the result.\n"
   ]
  },
  {
   "cell_type": "code",
   "execution_count": null,
   "id": "46f7a996",
   "metadata": {},
   "outputs": [],
   "source": [
    "\n",
    "import matplotlib.pyplot as plt\n",
    "import numpy as np\n",
    "from sklearn.decomposition import PCA\n",
    "\n",
    "pca = PCA(n_components=3)\n",
    "pca.fit(features)\n",
    "\n",
    "pca_features = pca.transform(features)\n",
    "pca_features = (pca_features - pca_features.min()) / (pca_features.max() - pca_features.min())\n",
    "pca_features = pca_features * 255\n",
    "\n",
    "plt.imshow(pca_features.reshape(16, 16, 3).astype(np.uint8))\n",
    "plt.savefig('meta_dog_features.png')\n"
   ]
  }
 ],
 "metadata": {
  "kernelspec": {
   "display_name": "Python 3 (ipykernel)",
   "language": "python",
   "name": "python3"
  },
  "language_info": {
   "codemirror_mode": {
    "name": "ipython",
    "version": 3
   },
   "file_extension": ".py",
   "mimetype": "text/x-python",
   "name": "python",
   "nbconvert_exporter": "python",
   "pygments_lexer": "ipython3",
   "version": "3.9.18"
  }
 },
 "nbformat": 4,
 "nbformat_minor": 5
}
